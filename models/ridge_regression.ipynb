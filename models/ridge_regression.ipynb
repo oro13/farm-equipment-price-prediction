{
 "cells": [
  {
   "cell_type": "code",
   "execution_count": 1,
   "metadata": {},
   "outputs": [],
   "source": [
    "import pandas as pd\n",
    "import numpy as np\n",
    "import matplotlib.pyplot as plt\n",
    "%matplotlib inline\n",
    "import re"
   ]
  },
  {
   "cell_type": "code",
   "execution_count": 2,
   "metadata": {},
   "outputs": [],
   "source": [
    "from pandas.plotting import scatter_matrix\n",
    "\n",
    "from sklearn.linear_model import LinearRegression, Ridge, Lasso\n",
    "from sklearn.pipeline import Pipeline\n",
    "from sklearn.model_selection import train_test_split, KFold\n",
    "from sklearn.preprocessing import StandardScaler\n",
    "from sklearn.base import clone\n",
    "\n",
    "%matplotlib inline\n",
    "import matplotlib.pyplot as plt"
   ]
  },
  {
   "cell_type": "code",
   "execution_count": 3,
   "metadata": {},
   "outputs": [],
   "source": [
    "from clean_data import clean_df"
   ]
  },
  {
   "cell_type": "code",
   "execution_count": 4,
   "metadata": {},
   "outputs": [],
   "source": [
    "def rmsle(actual, predictions):\n",
    "    log_diff = np.log(predictions+1) - np.log(actual+1)\n",
    "    return np.sqrt(np.mean(log_diff**2))"
   ]
  },
  {
   "cell_type": "code",
   "execution_count": 5,
   "metadata": {},
   "outputs": [],
   "source": [
    "auction_train = pd.read_csv('data/Train.csv', low_memory=False)"
   ]
  },
  {
   "cell_type": "code",
   "execution_count": 6,
   "metadata": {},
   "outputs": [],
   "source": [
    "clean_auction = clean_df(auction_train)"
   ]
  },
  {
   "cell_type": "code",
   "execution_count": 8,
   "metadata": {},
   "outputs": [
    {
     "data": {
      "text/html": [
       "<div>\n",
       "<style scoped>\n",
       "    .dataframe tbody tr th:only-of-type {\n",
       "        vertical-align: middle;\n",
       "    }\n",
       "\n",
       "    .dataframe tbody tr th {\n",
       "        vertical-align: top;\n",
       "    }\n",
       "\n",
       "    .dataframe thead th {\n",
       "        text-align: right;\n",
       "    }\n",
       "</style>\n",
       "<table border=\"1\" class=\"dataframe\">\n",
       "  <thead>\n",
       "    <tr style=\"text-align: right;\">\n",
       "      <th></th>\n",
       "      <th>SalePrice</th>\n",
       "      <th>YearMade</th>\n",
       "      <th>MachineHoursCurrentMeter</th>\n",
       "      <th>state</th>\n",
       "      <th>Ripper: None or Unspecified</th>\n",
       "      <th>Ripper: Yes</th>\n",
       "      <th>Ripper: Multi Shank</th>\n",
       "      <th>Ripper: Single Shank</th>\n",
       "      <th>ProductSize: Medium</th>\n",
       "      <th>ProductSize: Large / Medium</th>\n",
       "      <th>...</th>\n",
       "      <th>ProductSize: Large</th>\n",
       "      <th>ProductSize: Compact</th>\n",
       "      <th>HorsePower</th>\n",
       "      <th>Vehicle Type: Track Excavators</th>\n",
       "      <th>Vehicle Type: Track Type Tractors</th>\n",
       "      <th>Vehicle Type: Backhoe Loaders</th>\n",
       "      <th>Vehicle Type: Wheel Loader</th>\n",
       "      <th>Vehicle Type: Skid Steer Loaders</th>\n",
       "      <th>Vehicle Type: Motor Graders</th>\n",
       "      <th>yearsold</th>\n",
       "    </tr>\n",
       "  </thead>\n",
       "  <tbody>\n",
       "    <tr>\n",
       "      <th>0</th>\n",
       "      <td>11.097410</td>\n",
       "      <td>2004.0</td>\n",
       "      <td>68.0</td>\n",
       "      <td>1</td>\n",
       "      <td>0.0</td>\n",
       "      <td>0.0</td>\n",
       "      <td>0.0</td>\n",
       "      <td>0.0</td>\n",
       "      <td>0.0</td>\n",
       "      <td>0.0</td>\n",
       "      <td>...</td>\n",
       "      <td>0.0</td>\n",
       "      <td>0.0</td>\n",
       "      <td>120.000000</td>\n",
       "      <td>0.0</td>\n",
       "      <td>0.0</td>\n",
       "      <td>0.0</td>\n",
       "      <td>1.0</td>\n",
       "      <td>0.0</td>\n",
       "      <td>0.0</td>\n",
       "      <td>2006</td>\n",
       "    </tr>\n",
       "    <tr>\n",
       "      <th>1</th>\n",
       "      <td>10.950807</td>\n",
       "      <td>1996.0</td>\n",
       "      <td>4640.0</td>\n",
       "      <td>37</td>\n",
       "      <td>0.0</td>\n",
       "      <td>0.0</td>\n",
       "      <td>0.0</td>\n",
       "      <td>0.0</td>\n",
       "      <td>1.0</td>\n",
       "      <td>0.0</td>\n",
       "      <td>...</td>\n",
       "      <td>0.0</td>\n",
       "      <td>0.0</td>\n",
       "      <td>175.000000</td>\n",
       "      <td>0.0</td>\n",
       "      <td>0.0</td>\n",
       "      <td>0.0</td>\n",
       "      <td>1.0</td>\n",
       "      <td>0.0</td>\n",
       "      <td>0.0</td>\n",
       "      <td>2004</td>\n",
       "    </tr>\n",
       "    <tr>\n",
       "      <th>2</th>\n",
       "      <td>9.210340</td>\n",
       "      <td>2001.0</td>\n",
       "      <td>2838.0</td>\n",
       "      <td>36</td>\n",
       "      <td>0.0</td>\n",
       "      <td>0.0</td>\n",
       "      <td>0.0</td>\n",
       "      <td>0.0</td>\n",
       "      <td>0.0</td>\n",
       "      <td>0.0</td>\n",
       "      <td>...</td>\n",
       "      <td>0.0</td>\n",
       "      <td>0.0</td>\n",
       "      <td>165.216455</td>\n",
       "      <td>0.0</td>\n",
       "      <td>0.0</td>\n",
       "      <td>0.0</td>\n",
       "      <td>0.0</td>\n",
       "      <td>1.0</td>\n",
       "      <td>0.0</td>\n",
       "      <td>2004</td>\n",
       "    </tr>\n",
       "    <tr>\n",
       "      <th>3</th>\n",
       "      <td>10.558414</td>\n",
       "      <td>2001.0</td>\n",
       "      <td>3486.0</td>\n",
       "      <td>48</td>\n",
       "      <td>0.0</td>\n",
       "      <td>0.0</td>\n",
       "      <td>0.0</td>\n",
       "      <td>0.0</td>\n",
       "      <td>0.0</td>\n",
       "      <td>0.0</td>\n",
       "      <td>...</td>\n",
       "      <td>0.0</td>\n",
       "      <td>0.0</td>\n",
       "      <td>165.216455</td>\n",
       "      <td>1.0</td>\n",
       "      <td>0.0</td>\n",
       "      <td>0.0</td>\n",
       "      <td>0.0</td>\n",
       "      <td>0.0</td>\n",
       "      <td>0.0</td>\n",
       "      <td>2011</td>\n",
       "    </tr>\n",
       "    <tr>\n",
       "      <th>4</th>\n",
       "      <td>9.305651</td>\n",
       "      <td>2007.0</td>\n",
       "      <td>722.0</td>\n",
       "      <td>36</td>\n",
       "      <td>0.0</td>\n",
       "      <td>0.0</td>\n",
       "      <td>0.0</td>\n",
       "      <td>0.0</td>\n",
       "      <td>0.0</td>\n",
       "      <td>0.0</td>\n",
       "      <td>...</td>\n",
       "      <td>0.0</td>\n",
       "      <td>0.0</td>\n",
       "      <td>165.216455</td>\n",
       "      <td>0.0</td>\n",
       "      <td>0.0</td>\n",
       "      <td>0.0</td>\n",
       "      <td>0.0</td>\n",
       "      <td>1.0</td>\n",
       "      <td>0.0</td>\n",
       "      <td>2009</td>\n",
       "    </tr>\n",
       "  </tbody>\n",
       "</table>\n",
       "<p>5 rows × 22 columns</p>\n",
       "</div>"
      ],
      "text/plain": [
       "   SalePrice  YearMade  MachineHoursCurrentMeter  state  \\\n",
       "0  11.097410    2004.0                      68.0      1   \n",
       "1  10.950807    1996.0                    4640.0     37   \n",
       "2   9.210340    2001.0                    2838.0     36   \n",
       "3  10.558414    2001.0                    3486.0     48   \n",
       "4   9.305651    2007.0                     722.0     36   \n",
       "\n",
       "   Ripper: None or Unspecified  Ripper: Yes  Ripper: Multi Shank  \\\n",
       "0                          0.0          0.0                  0.0   \n",
       "1                          0.0          0.0                  0.0   \n",
       "2                          0.0          0.0                  0.0   \n",
       "3                          0.0          0.0                  0.0   \n",
       "4                          0.0          0.0                  0.0   \n",
       "\n",
       "   Ripper: Single Shank  ProductSize: Medium  ProductSize: Large / Medium  \\\n",
       "0                   0.0                  0.0                          0.0   \n",
       "1                   0.0                  1.0                          0.0   \n",
       "2                   0.0                  0.0                          0.0   \n",
       "3                   0.0                  0.0                          0.0   \n",
       "4                   0.0                  0.0                          0.0   \n",
       "\n",
       "   ...  ProductSize: Large  ProductSize: Compact  HorsePower  \\\n",
       "0  ...                 0.0                   0.0  120.000000   \n",
       "1  ...                 0.0                   0.0  175.000000   \n",
       "2  ...                 0.0                   0.0  165.216455   \n",
       "3  ...                 0.0                   0.0  165.216455   \n",
       "4  ...                 0.0                   0.0  165.216455   \n",
       "\n",
       "   Vehicle Type: Track Excavators  Vehicle Type: Track Type Tractors  \\\n",
       "0                             0.0                                0.0   \n",
       "1                             0.0                                0.0   \n",
       "2                             0.0                                0.0   \n",
       "3                             1.0                                0.0   \n",
       "4                             0.0                                0.0   \n",
       "\n",
       "   Vehicle Type: Backhoe Loaders  Vehicle Type: Wheel Loader  \\\n",
       "0                            0.0                         1.0   \n",
       "1                            0.0                         1.0   \n",
       "2                            0.0                         0.0   \n",
       "3                            0.0                         0.0   \n",
       "4                            0.0                         0.0   \n",
       "\n",
       "   Vehicle Type: Skid Steer Loaders  Vehicle Type: Motor Graders  yearsold  \n",
       "0                               0.0                          0.0      2006  \n",
       "1                               0.0                          0.0      2004  \n",
       "2                               1.0                          0.0      2004  \n",
       "3                               0.0                          0.0      2011  \n",
       "4                               1.0                          0.0      2009  \n",
       "\n",
       "[5 rows x 22 columns]"
      ]
     },
     "execution_count": 8,
     "metadata": {},
     "output_type": "execute_result"
    }
   ],
   "source": [
    "clean_auction.head()"
   ]
  },
  {
   "cell_type": "code",
   "execution_count": 11,
   "metadata": {},
   "outputs": [],
   "source": [
    "y = np.array(clean_auction['SalePrice'])\n",
    "X = np.array(clean_auction.drop(columns='SalePrice'))"
   ]
  },
  {
   "cell_type": "code",
   "execution_count": 12,
   "metadata": {},
   "outputs": [],
   "source": [
    "X_train, X_test, y_train, y_test = train_test_split(X, y)"
   ]
  },
  {
   "cell_type": "code",
   "execution_count": 13,
   "metadata": {},
   "outputs": [],
   "source": [
    "model = Pipeline([('standardize', StandardScaler()),\n",
    "                   ('regressor', Ridge())])"
   ]
  },
  {
   "cell_type": "code",
   "execution_count": 14,
   "metadata": {},
   "outputs": [
    {
     "data": {
      "text/plain": [
       "Pipeline(memory=None,\n",
       "         steps=[('standardize',\n",
       "                 StandardScaler(copy=True, with_mean=True, with_std=True)),\n",
       "                ('regressor',\n",
       "                 Ridge(alpha=1.0, copy_X=True, fit_intercept=True,\n",
       "                       max_iter=None, normalize=False, random_state=None,\n",
       "                       solver='auto', tol=0.001))],\n",
       "         verbose=False)"
      ]
     },
     "execution_count": 14,
     "metadata": {},
     "output_type": "execute_result"
    }
   ],
   "source": [
    "model.fit(X_train, y_train)"
   ]
  },
  {
   "cell_type": "code",
   "execution_count": 15,
   "metadata": {},
   "outputs": [],
   "source": [
    "y_hat_train = model.predict(X_train)\n",
    "y_hat_test = model.predict(X_test)"
   ]
  },
  {
   "cell_type": "code",
   "execution_count": 16,
   "metadata": {},
   "outputs": [
    {
     "name": "stdout",
     "output_type": "stream",
     "text": [
      "Training error: 0.012149465642853428\n",
      "Testing error: 0.012126664490014002\n"
     ]
    }
   ],
   "source": [
    "print('Training error: {}'.format(rmsle(y_train, y_hat_train)))\n",
    "print('Testing error: {}'.format(rmsle(y_test, y_hat_test)))"
   ]
  },
  {
   "cell_type": "code",
   "execution_count": 17,
   "metadata": {},
   "outputs": [
    {
     "name": "stdout",
     "output_type": "stream",
     "text": [
      "Training CV error: 0.01\n",
      "Test CV error: 0.01\n"
     ]
    }
   ],
   "source": [
    "n_folds = 5\n",
    "\n",
    "kf = KFold(n_splits=n_folds)\n",
    "\n",
    "test_cv_errors, train_cv_errors = np.empty(n_folds), np.empty(n_folds)\n",
    "\n",
    "for idx, (train, test) in enumerate(kf.split(X_train)):\n",
    "    # Split into train and test\n",
    "    X_cv_train, y_cv_train = X_train[train], y_train[train]\n",
    "    X_cv_test, y_cv_test = X_train[test], y_train[test]\n",
    "\n",
    "    # Fit data onto model\n",
    "    model.fit(X_cv_train, y_cv_train)\n",
    "    \n",
    "    # Measure performance\n",
    "    y_hat_train = model.predict(X_cv_train)\n",
    "    y_hat_test = model.predict(X_cv_test)\n",
    "    \n",
    "    # Calclate the error metrics\n",
    "    train_cv_errors[idx] = rmsle(y_cv_train, y_hat_train)\n",
    "    test_cv_errors[idx] = rmsle(y_cv_test, y_hat_test)\n",
    "    \n",
    "print(\"Training CV error: {:2.2f}\".format(train_cv_errors.mean()))\n",
    "print(\"Test CV error: {:2.2f}\".format(test_cv_errors.mean()))"
   ]
  },
  {
   "cell_type": "code",
   "execution_count": 18,
   "metadata": {},
   "outputs": [
    {
     "ename": "ValueError",
     "evalue": "could not broadcast input array from shape (21) into shape (6)",
     "output_type": "error",
     "traceback": [
      "\u001b[0;31m------------------------------------------------------------------------\u001b[0m",
      "\u001b[0;31mValueError\u001b[0m                             Traceback (most recent call last)",
      "\u001b[0;32m<ipython-input-18-b2850446d4fe>\u001b[0m in \u001b[0;36m<module>\u001b[0;34m\u001b[0m\n\u001b[1;32m     11\u001b[0m     \u001b[0mmodel\u001b[0m\u001b[0;34m.\u001b[0m\u001b[0mfit\u001b[0m\u001b[0;34m(\u001b[0m\u001b[0mX\u001b[0m\u001b[0;34m,\u001b[0m \u001b[0my\u001b[0m\u001b[0;34m)\u001b[0m\u001b[0;34m\u001b[0m\u001b[0;34m\u001b[0m\u001b[0m\n\u001b[1;32m     12\u001b[0m     \u001b[0;31m#coefs[i] = model.steps[1][1].coef_\u001b[0m\u001b[0;34m\u001b[0m\u001b[0;34m\u001b[0m\u001b[0;34m\u001b[0m\u001b[0m\n\u001b[0;32m---> 13\u001b[0;31m     \u001b[0mcoefs\u001b[0m\u001b[0;34m[\u001b[0m\u001b[0mi\u001b[0m\u001b[0;34m]\u001b[0m \u001b[0;34m=\u001b[0m \u001b[0mmodel\u001b[0m\u001b[0;34m.\u001b[0m\u001b[0mcoef_\u001b[0m\u001b[0;34m\u001b[0m\u001b[0;34m\u001b[0m\u001b[0m\n\u001b[0m",
      "\u001b[0;31mValueError\u001b[0m: could not broadcast input array from shape (21) into shape (6)"
     ]
    }
   ],
   "source": [
    "nalphas = 50\n",
    "min_alpha_exp = -3\n",
    "max_alpha_exp = 1.5\n",
    "nfeatures = 6\n",
    "coefs = np.zeros((nalphas, nfeatures))\n",
    "alphas = np.logspace(min_alpha_exp, max_alpha_exp, nalphas)\n",
    "for i, alpha in enumerate(alphas):\n",
    "    #model = Pipeline([('standardize', StandardScaler()),\n",
    "    #                  ('lasso', Lasso(alpha=alpha))])\n",
    "    model = Lasso(alpha=alpha)\n",
    "    model.fit(X, y)\n",
    "    #coefs[i] = model.steps[1][1].coef_\n",
    "    coefs[i] = model.coef_"
   ]
  }
 ],
 "metadata": {
  "kernelspec": {
   "display_name": "Python 3",
   "language": "python",
   "name": "python3"
  },
  "language_info": {
   "codemirror_mode": {
    "name": "ipython",
    "version": 3
   },
   "file_extension": ".py",
   "mimetype": "text/x-python",
   "name": "python",
   "nbconvert_exporter": "python",
   "pygments_lexer": "ipython3",
   "version": "3.7.6"
  }
 },
 "nbformat": 4,
 "nbformat_minor": 4
}
